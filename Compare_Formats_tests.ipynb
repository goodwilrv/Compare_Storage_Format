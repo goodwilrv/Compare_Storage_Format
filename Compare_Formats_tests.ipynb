{
 "cells": [
  {
   "cell_type": "code",
   "execution_count": null,
   "metadata": {},
   "outputs": [],
   "source": []
  },
  {
   "cell_type": "markdown",
   "metadata": {},
   "source": [
    "\n",
    "        \n",
    " #In this Notebook:\n",
    "I am trying different formats of disk storage in python like .csv, .pickle, parquet, .feather etc and comparing the time it takes to read/write 1 million rows of a dataframe and it maintains the datatype after writting and reading back.\n",
    " \n",
    "#Conslusion\n",
    "We see that for a 4.5 million rows  dataframe parquet format takes 1/20th time (21.1 sec for .csv and 1.7 sec for parquet). Parquet format also take around 1/6th disk space.\n",
    "\n",
    "\n",
    "\n",
    "\n",
    "\n"
   ]
  },
  {
   "cell_type": "code",
   "execution_count": null,
   "metadata": {},
   "outputs": [],
   "source": []
  },
  {
   "cell_type": "code",
   "execution_count": 130,
   "metadata": {},
   "outputs": [],
   "source": [
    "import pickle\n"
   ]
  },
  {
   "cell_type": "code",
   "execution_count": 131,
   "metadata": {},
   "outputs": [],
   "source": [
    "def storegkData():\n",
    "    gautam = {'key':'gautam','name':'gautam kumar','age':21,'pay':23000}\n",
    "    alex = {'key':'alex','name':'alex stuttgart','age':53,'pay':52000}\n",
    "    \n",
    "    dt = {}\n",
    "    dt['gautam'] = gautam\n",
    "    dt['alex'] = alex\n",
    "    \n",
    "    dbfile = open('examPickle','ab')\n",
    "    \n",
    "    pickle.dump(dt,dbfile)\n",
    "\n",
    "    dbfile.close()"
   ]
  },
  {
   "cell_type": "code",
   "execution_count": 135,
   "metadata": {},
   "outputs": [],
   "source": [
    "def loadgkData():\n",
    "    dtfile2 = open('examPickle','rb')\n",
    "\n",
    "    dt = pickle.load(dtfile2)\n",
    "\n",
    "    for keys in dt:\n",
    "        print(\"Keys =>>\", keys, dt[keys])\n",
    "    dtfile2.close()"
   ]
  },
  {
   "cell_type": "code",
   "execution_count": 136,
   "metadata": {},
   "outputs": [],
   "source": [
    "storegkData()"
   ]
  },
  {
   "cell_type": "code",
   "execution_count": 137,
   "metadata": {},
   "outputs": [
    {
     "name": "stdout",
     "output_type": "stream",
     "text": [
      "Keys =>> omkar {'key': 'Omkar', 'name': 'Omkar Pathak', 'age': 21, 'pay': 40000}\n",
      "Keys =>> jagdish {'key': 'Jagdish', 'name': 'Jagdish Pathak', 'age': 50, 'pay': 50000}\n"
     ]
    }
   ],
   "source": [
    "loadgkData()"
   ]
  },
  {
   "cell_type": "code",
   "execution_count": 112,
   "metadata": {},
   "outputs": [
    {
     "name": "stdout",
     "output_type": "stream",
     "text": [
      "Requirement already satisfied: pyarrow in ./opt/anaconda3/lib/python3.8/site-packages (15.0.2)\n",
      "Requirement already satisfied: numpy<2,>=1.16.6 in ./opt/anaconda3/lib/python3.8/site-packages (from pyarrow) (1.22.2)\n",
      "Requirement already satisfied: fastparquet in ./opt/anaconda3/lib/python3.8/site-packages (2024.2.0)\n",
      "Requirement already satisfied: pandas>=1.5.0 in ./opt/anaconda3/lib/python3.8/site-packages (from fastparquet) (2.0.3)\n",
      "Requirement already satisfied: fsspec in ./opt/anaconda3/lib/python3.8/site-packages (from fastparquet) (2024.2.0)\n",
      "Requirement already satisfied: numpy>=1.20.3 in ./opt/anaconda3/lib/python3.8/site-packages (from fastparquet) (1.22.2)\n",
      "Requirement already satisfied: packaging in ./opt/anaconda3/lib/python3.8/site-packages (from fastparquet) (20.4)\n",
      "Requirement already satisfied: cramjam>=2.3 in ./opt/anaconda3/lib/python3.8/site-packages (from fastparquet) (2.8.4)\n",
      "Requirement already satisfied: tzdata>=2022.1 in ./opt/anaconda3/lib/python3.8/site-packages (from pandas>=1.5.0->fastparquet) (2024.2)\n",
      "Requirement already satisfied: python-dateutil>=2.8.2 in ./opt/anaconda3/lib/python3.8/site-packages (from pandas>=1.5.0->fastparquet) (2.9.0.post0)\n",
      "Requirement already satisfied: pytz>=2020.1 in ./opt/anaconda3/lib/python3.8/site-packages (from pandas>=1.5.0->fastparquet) (2020.1)\n",
      "Requirement already satisfied: pyparsing>=2.0.2 in ./opt/anaconda3/lib/python3.8/site-packages (from packaging->fastparquet) (2.4.7)\n",
      "Requirement already satisfied: six in ./opt/anaconda3/lib/python3.8/site-packages (from packaging->fastparquet) (1.15.0)\n"
     ]
    }
   ],
   "source": [
    "!pip install pyarrow\n",
    "!pip install fastparquet"
   ]
  },
  {
   "cell_type": "code",
   "execution_count": 44,
   "metadata": {},
   "outputs": [
    {
     "name": "stdout",
     "output_type": "stream",
     "text": [
      "Collecting fastparquet\n",
      "  Downloading fastparquet-2024.2.0.tar.gz (465 kB)\n",
      "\u001b[K     |████████████████████████████████| 465 kB 4.7 MB/s eta 0:00:01\n",
      "\u001b[?25h  Installing build dependencies ... \u001b[?25ldone\n",
      "\u001b[?25h  Getting requirements to build wheel ... \u001b[?25ldone\n",
      "\u001b[?25h  Installing backend dependencies ... \u001b[?25ldone\n",
      "\u001b[?25h    Preparing wheel metadata ... \u001b[?25ldone\n",
      "\u001b[?25hCollecting cramjam>=2.3\n",
      "  Downloading cramjam-2.8.4-cp38-cp38-macosx_10_12_x86_64.whl (2.1 MB)\n",
      "\u001b[K     |████████████████████████████████| 2.1 MB 42.5 MB/s eta 0:00:01\n",
      "\u001b[?25hRequirement already satisfied: packaging in ./opt/anaconda3/lib/python3.8/site-packages (from fastparquet) (20.4)\n",
      "Collecting pandas>=1.5.0\n",
      "  Downloading pandas-2.0.3-cp38-cp38-macosx_10_9_x86_64.whl (11.7 MB)\n",
      "\u001b[K     |████████████████████████████████| 11.7 MB 347 kB/s eta 0:00:01\n",
      "\u001b[?25hRequirement already satisfied: numpy>=1.20.3 in ./opt/anaconda3/lib/python3.8/site-packages (from fastparquet) (1.22.2)\n",
      "Requirement already satisfied: fsspec in ./opt/anaconda3/lib/python3.8/site-packages (from fastparquet) (2024.2.0)\n",
      "Requirement already satisfied: six in ./opt/anaconda3/lib/python3.8/site-packages (from packaging->fastparquet) (1.15.0)\n",
      "Requirement already satisfied: pyparsing>=2.0.2 in ./opt/anaconda3/lib/python3.8/site-packages (from packaging->fastparquet) (2.4.7)\n",
      "Collecting python-dateutil>=2.8.2\n",
      "  Downloading python_dateutil-2.9.0.post0-py2.py3-none-any.whl (229 kB)\n",
      "\u001b[K     |████████████████████████████████| 229 kB 50.9 MB/s eta 0:00:01\n",
      "\u001b[?25hCollecting tzdata>=2022.1\n",
      "  Downloading tzdata-2024.2-py2.py3-none-any.whl (346 kB)\n",
      "\u001b[K     |████████████████████████████████| 346 kB 50.3 MB/s eta 0:00:01\n",
      "\u001b[?25hRequirement already satisfied: pytz>=2020.1 in ./opt/anaconda3/lib/python3.8/site-packages (from pandas>=1.5.0->fastparquet) (2020.1)\n",
      "Building wheels for collected packages: fastparquet\n",
      "  Building wheel for fastparquet (PEP 517) ... \u001b[?25ldone\n",
      "\u001b[?25h  Created wheel for fastparquet: filename=fastparquet-2024.2.0-cp38-cp38-macosx_10_9_x86_64.whl size=698471 sha256=9a98470739776a86253fa6bc3dde0cd77a3014780bd0d4e05435eea04af2596b\n",
      "  Stored in directory: /Users/user/Library/Caches/pip/wheels/b7/cd/fe/e9f613eb7fb2eb40d3ca9f5893085cbbe2035b58261b1b3172\n",
      "Successfully built fastparquet\n",
      "Installing collected packages: cramjam, python-dateutil, tzdata, pandas, fastparquet\n",
      "  Attempting uninstall: python-dateutil\n",
      "    Found existing installation: python-dateutil 2.8.1\n",
      "    Uninstalling python-dateutil-2.8.1:\n",
      "      Successfully uninstalled python-dateutil-2.8.1\n",
      "  Attempting uninstall: pandas\n",
      "    Found existing installation: pandas 1.1.3\n",
      "    Uninstalling pandas-1.1.3:\n",
      "      Successfully uninstalled pandas-1.1.3\n",
      "\u001b[31mERROR: After October 2020 you may experience errors when installing or updating packages. This is because pip will change the way that it resolves dependency conflicts.\n",
      "\n",
      "We recommend you use --use-feature=2020-resolver to test your packages with the new resolver before it becomes the default.\n",
      "\n",
      "botocore 1.20.27 requires urllib3<1.27,>=1.25.4, but you'll have urllib3 2.2.2 which is incompatible.\u001b[0m\n",
      "Successfully installed cramjam-2.8.4 fastparquet-2024.2.0 pandas-2.0.3 python-dateutil-2.9.0.post0 tzdata-2024.2\n"
     ]
    }
   ],
   "source": [
    "\n"
   ]
  },
  {
   "cell_type": "code",
   "execution_count": 48,
   "metadata": {},
   "outputs": [
    {
     "name": "stderr",
     "output_type": "stream",
     "text": [
      "/Users/user/opt/anaconda3/lib/python3.8/site-packages/pandas/core/computation/expressions.py:20: UserWarning: Pandas requires version '2.7.3' or newer of 'numexpr' (version '2.7.1' currently installed).\n",
      "  from pandas.core.computation.check import NUMEXPR_INSTALLED\n"
     ]
    }
   ],
   "source": [
    "import pandas as pd\n",
    "import numpy as np"
   ]
  },
  {
   "cell_type": "code",
   "execution_count": 49,
   "metadata": {},
   "outputs": [],
   "source": [
    "\n",
    "\n",
    "def get_gkdataset(size):\n",
    "    # Create simple Dataset\n",
    "    x_df = pd.DataFrame()\n",
    "    x_df['size'] = np.random.choice(['big','medium','small'], size)\n",
    "    x_df['age'] = np.random.randint(1, 50, size)\n",
    "    x_df['team'] = np.random.choice(['red','blue','yellow','green'], size)\n",
    "    x_df['win'] = np.random.choice(['yes','no'], size)\n",
    "    dates = pd.date_range('2020-01-01', '2022-12-31')\n",
    "    x_df['date'] = np.random.choice(dates, size)\n",
    "    x_df['prob'] = np.random.uniform(0, 1, size)\n",
    "    return x_df\n",
    "\n",
    "def set_gkdtypes(x_df):\n",
    "    # Set data types.\n",
    "    x_df['size'] = x_df['size'].astype('category')\n",
    "    x_df['team'] = x_df['team'].astype('category')\n",
    "    x_df['age'] = x_df['age'].astype('int16')\n",
    "    x_df['win'] = x_df['win'].map({'yes':True, 'no': False})\n",
    "    x_df['prob'] = x_df['prob'].astype('float32')\n",
    "    return x_df"
   ]
  },
  {
   "cell_type": "code",
   "execution_count": 51,
   "metadata": {},
   "outputs": [],
   "source": [
    "df = get_gkdataset(100000)"
   ]
  },
  {
   "cell_type": "code",
   "execution_count": 53,
   "metadata": {},
   "outputs": [
    {
     "name": "stdout",
     "output_type": "stream",
     "text": [
      "<class 'pandas.core.frame.DataFrame'>\n",
      "RangeIndex: 100000 entries, 0 to 99999\n",
      "Data columns (total 6 columns):\n",
      " #   Column  Non-Null Count   Dtype         \n",
      "---  ------  --------------   -----         \n",
      " 0   size    100000 non-null  object        \n",
      " 1   age     100000 non-null  int64         \n",
      " 2   team    100000 non-null  object        \n",
      " 3   win     100000 non-null  object        \n",
      " 4   date    100000 non-null  datetime64[ns]\n",
      " 5   prob    100000 non-null  float64       \n",
      "dtypes: datetime64[ns](1), float64(1), int64(1), object(3)\n",
      "memory usage: 4.6+ MB\n"
     ]
    }
   ],
   "source": [
    "df.info()"
   ]
  },
  {
   "cell_type": "code",
   "execution_count": 54,
   "metadata": {},
   "outputs": [
    {
     "data": {
      "text/html": [
       "<div>\n",
       "<style scoped>\n",
       "    .dataframe tbody tr th:only-of-type {\n",
       "        vertical-align: middle;\n",
       "    }\n",
       "\n",
       "    .dataframe tbody tr th {\n",
       "        vertical-align: top;\n",
       "    }\n",
       "\n",
       "    .dataframe thead th {\n",
       "        text-align: right;\n",
       "    }\n",
       "</style>\n",
       "<table border=\"1\" class=\"dataframe\">\n",
       "  <thead>\n",
       "    <tr style=\"text-align: right;\">\n",
       "      <th></th>\n",
       "      <th>size</th>\n",
       "      <th>age</th>\n",
       "      <th>team</th>\n",
       "      <th>win</th>\n",
       "      <th>date</th>\n",
       "      <th>prob</th>\n",
       "    </tr>\n",
       "  </thead>\n",
       "  <tbody>\n",
       "    <tr>\n",
       "      <th>0</th>\n",
       "      <td>big</td>\n",
       "      <td>13</td>\n",
       "      <td>green</td>\n",
       "      <td>no</td>\n",
       "      <td>2020-02-02</td>\n",
       "      <td>0.132523</td>\n",
       "    </tr>\n",
       "    <tr>\n",
       "      <th>1</th>\n",
       "      <td>big</td>\n",
       "      <td>10</td>\n",
       "      <td>red</td>\n",
       "      <td>yes</td>\n",
       "      <td>2020-08-09</td>\n",
       "      <td>0.550079</td>\n",
       "    </tr>\n",
       "    <tr>\n",
       "      <th>2</th>\n",
       "      <td>big</td>\n",
       "      <td>44</td>\n",
       "      <td>blue</td>\n",
       "      <td>yes</td>\n",
       "      <td>2022-08-20</td>\n",
       "      <td>0.978710</td>\n",
       "    </tr>\n",
       "    <tr>\n",
       "      <th>3</th>\n",
       "      <td>big</td>\n",
       "      <td>4</td>\n",
       "      <td>green</td>\n",
       "      <td>yes</td>\n",
       "      <td>2022-03-09</td>\n",
       "      <td>0.654751</td>\n",
       "    </tr>\n",
       "    <tr>\n",
       "      <th>4</th>\n",
       "      <td>medium</td>\n",
       "      <td>37</td>\n",
       "      <td>yellow</td>\n",
       "      <td>no</td>\n",
       "      <td>2020-06-05</td>\n",
       "      <td>0.231969</td>\n",
       "    </tr>\n",
       "  </tbody>\n",
       "</table>\n",
       "</div>"
      ],
      "text/plain": [
       "     size  age    team  win       date      prob\n",
       "0     big   13   green   no 2020-02-02  0.132523\n",
       "1     big   10     red  yes 2020-08-09  0.550079\n",
       "2     big   44    blue  yes 2022-08-20  0.978710\n",
       "3     big    4   green  yes 2022-03-09  0.654751\n",
       "4  medium   37  yellow   no 2020-06-05  0.231969"
      ]
     },
     "execution_count": 54,
     "metadata": {},
     "output_type": "execute_result"
    }
   ],
   "source": [
    "df.head()"
   ]
  },
  {
   "cell_type": "code",
   "execution_count": 67,
   "metadata": {},
   "outputs": [
    {
     "name": "stdout",
     "output_type": "stream",
     "text": [
      "810 ms ± 36.5 ms per loop (mean ± std. dev. of 7 runs, 1 loop each)\n"
     ]
    }
   ],
   "source": [
    "%%timeit\n",
    "df = get_gkdataset(1000000)"
   ]
  },
  {
   "cell_type": "code",
   "execution_count": 68,
   "metadata": {},
   "outputs": [
    {
     "name": "stdout",
     "output_type": "stream",
     "text": [
      "3.25 s ± 78.6 ms per loop (mean ± std. dev. of 7 runs, 1 loop each)\n"
     ]
    }
   ],
   "source": [
    "%%timeit\n",
    "df.to_csv(\"test_csv.csv\",index = False)"
   ]
  },
  {
   "cell_type": "code",
   "execution_count": 69,
   "metadata": {},
   "outputs": [
    {
     "name": "stdout",
     "output_type": "stream",
     "text": [
      "94216 -rw-r--r--  1 user  staff    45M Oct 15 14:44 test_csv.csv\r\n"
     ]
    }
   ],
   "source": [
    "!ls -GFlash test_csv.csv"
   ]
  },
  {
   "cell_type": "code",
   "execution_count": 70,
   "metadata": {},
   "outputs": [
    {
     "name": "stdout",
     "output_type": "stream",
     "text": [
      "609 ms ± 11.4 ms per loop (mean ± std. dev. of 7 runs, 1 loop each)\n"
     ]
    }
   ],
   "source": [
    "%%timeit\n",
    "df = pd.read_csv(\"test_csv.csv\")"
   ]
  },
  {
   "cell_type": "code",
   "execution_count": 71,
   "metadata": {},
   "outputs": [
    {
     "data": {
      "text/html": [
       "<div>\n",
       "<style scoped>\n",
       "    .dataframe tbody tr th:only-of-type {\n",
       "        vertical-align: middle;\n",
       "    }\n",
       "\n",
       "    .dataframe tbody tr th {\n",
       "        vertical-align: top;\n",
       "    }\n",
       "\n",
       "    .dataframe thead th {\n",
       "        text-align: right;\n",
       "    }\n",
       "</style>\n",
       "<table border=\"1\" class=\"dataframe\">\n",
       "  <thead>\n",
       "    <tr style=\"text-align: right;\">\n",
       "      <th></th>\n",
       "      <th>size</th>\n",
       "      <th>age</th>\n",
       "      <th>team</th>\n",
       "      <th>win</th>\n",
       "      <th>date</th>\n",
       "      <th>prob</th>\n",
       "    </tr>\n",
       "  </thead>\n",
       "  <tbody>\n",
       "    <tr>\n",
       "      <th>0</th>\n",
       "      <td>medium</td>\n",
       "      <td>4</td>\n",
       "      <td>blue</td>\n",
       "      <td>yes</td>\n",
       "      <td>2022-09-27</td>\n",
       "      <td>0.003669</td>\n",
       "    </tr>\n",
       "    <tr>\n",
       "      <th>1</th>\n",
       "      <td>small</td>\n",
       "      <td>44</td>\n",
       "      <td>red</td>\n",
       "      <td>yes</td>\n",
       "      <td>2020-12-11</td>\n",
       "      <td>0.836712</td>\n",
       "    </tr>\n",
       "    <tr>\n",
       "      <th>2</th>\n",
       "      <td>medium</td>\n",
       "      <td>1</td>\n",
       "      <td>blue</td>\n",
       "      <td>yes</td>\n",
       "      <td>2021-01-28</td>\n",
       "      <td>0.849984</td>\n",
       "    </tr>\n",
       "    <tr>\n",
       "      <th>3</th>\n",
       "      <td>small</td>\n",
       "      <td>18</td>\n",
       "      <td>blue</td>\n",
       "      <td>yes</td>\n",
       "      <td>2022-12-20</td>\n",
       "      <td>0.008492</td>\n",
       "    </tr>\n",
       "    <tr>\n",
       "      <th>4</th>\n",
       "      <td>medium</td>\n",
       "      <td>3</td>\n",
       "      <td>red</td>\n",
       "      <td>no</td>\n",
       "      <td>2021-06-14</td>\n",
       "      <td>0.922291</td>\n",
       "    </tr>\n",
       "  </tbody>\n",
       "</table>\n",
       "</div>"
      ],
      "text/plain": [
       "     size  age  team  win        date      prob\n",
       "0  medium    4  blue  yes  2022-09-27  0.003669\n",
       "1   small   44   red  yes  2020-12-11  0.836712\n",
       "2  medium    1  blue  yes  2021-01-28  0.849984\n",
       "3   small   18  blue  yes  2022-12-20  0.008492\n",
       "4  medium    3   red   no  2021-06-14  0.922291"
      ]
     },
     "execution_count": 71,
     "metadata": {},
     "output_type": "execute_result"
    }
   ],
   "source": [
    "df.head()"
   ]
  },
  {
   "cell_type": "code",
   "execution_count": 73,
   "metadata": {},
   "outputs": [
    {
     "data": {
      "text/html": [
       "<div>\n",
       "<style scoped>\n",
       "    .dataframe tbody tr th:only-of-type {\n",
       "        vertical-align: middle;\n",
       "    }\n",
       "\n",
       "    .dataframe tbody tr th {\n",
       "        vertical-align: top;\n",
       "    }\n",
       "\n",
       "    .dataframe thead th {\n",
       "        text-align: right;\n",
       "    }\n",
       "</style>\n",
       "<table border=\"1\" class=\"dataframe\">\n",
       "  <thead>\n",
       "    <tr style=\"text-align: right;\">\n",
       "      <th></th>\n",
       "      <th>size</th>\n",
       "      <th>age</th>\n",
       "      <th>team</th>\n",
       "      <th>win</th>\n",
       "      <th>date</th>\n",
       "      <th>prob</th>\n",
       "    </tr>\n",
       "  </thead>\n",
       "  <tbody>\n",
       "    <tr>\n",
       "      <th>0</th>\n",
       "      <td>medium</td>\n",
       "      <td>43</td>\n",
       "      <td>green</td>\n",
       "      <td>True</td>\n",
       "      <td>2022-12-14</td>\n",
       "      <td>0.353590</td>\n",
       "    </tr>\n",
       "    <tr>\n",
       "      <th>1</th>\n",
       "      <td>medium</td>\n",
       "      <td>31</td>\n",
       "      <td>green</td>\n",
       "      <td>False</td>\n",
       "      <td>2021-07-25</td>\n",
       "      <td>0.007596</td>\n",
       "    </tr>\n",
       "    <tr>\n",
       "      <th>2</th>\n",
       "      <td>big</td>\n",
       "      <td>25</td>\n",
       "      <td>green</td>\n",
       "      <td>False</td>\n",
       "      <td>2022-07-20</td>\n",
       "      <td>0.456653</td>\n",
       "    </tr>\n",
       "    <tr>\n",
       "      <th>3</th>\n",
       "      <td>big</td>\n",
       "      <td>20</td>\n",
       "      <td>red</td>\n",
       "      <td>False</td>\n",
       "      <td>2020-03-16</td>\n",
       "      <td>0.902980</td>\n",
       "    </tr>\n",
       "    <tr>\n",
       "      <th>4</th>\n",
       "      <td>small</td>\n",
       "      <td>6</td>\n",
       "      <td>red</td>\n",
       "      <td>True</td>\n",
       "      <td>2022-03-18</td>\n",
       "      <td>0.391114</td>\n",
       "    </tr>\n",
       "    <tr>\n",
       "      <th>...</th>\n",
       "      <td>...</td>\n",
       "      <td>...</td>\n",
       "      <td>...</td>\n",
       "      <td>...</td>\n",
       "      <td>...</td>\n",
       "      <td>...</td>\n",
       "    </tr>\n",
       "    <tr>\n",
       "      <th>999995</th>\n",
       "      <td>big</td>\n",
       "      <td>47</td>\n",
       "      <td>green</td>\n",
       "      <td>False</td>\n",
       "      <td>2022-07-11</td>\n",
       "      <td>0.039985</td>\n",
       "    </tr>\n",
       "    <tr>\n",
       "      <th>999996</th>\n",
       "      <td>small</td>\n",
       "      <td>29</td>\n",
       "      <td>yellow</td>\n",
       "      <td>True</td>\n",
       "      <td>2022-07-13</td>\n",
       "      <td>0.404151</td>\n",
       "    </tr>\n",
       "    <tr>\n",
       "      <th>999997</th>\n",
       "      <td>small</td>\n",
       "      <td>44</td>\n",
       "      <td>green</td>\n",
       "      <td>False</td>\n",
       "      <td>2021-05-15</td>\n",
       "      <td>0.001012</td>\n",
       "    </tr>\n",
       "    <tr>\n",
       "      <th>999998</th>\n",
       "      <td>medium</td>\n",
       "      <td>46</td>\n",
       "      <td>yellow</td>\n",
       "      <td>False</td>\n",
       "      <td>2020-11-17</td>\n",
       "      <td>0.761888</td>\n",
       "    </tr>\n",
       "    <tr>\n",
       "      <th>999999</th>\n",
       "      <td>big</td>\n",
       "      <td>17</td>\n",
       "      <td>green</td>\n",
       "      <td>True</td>\n",
       "      <td>2021-03-13</td>\n",
       "      <td>0.657446</td>\n",
       "    </tr>\n",
       "  </tbody>\n",
       "</table>\n",
       "<p>1000000 rows × 6 columns</p>\n",
       "</div>"
      ],
      "text/plain": [
       "          size  age    team    win       date      prob\n",
       "0       medium   43   green   True 2022-12-14  0.353590\n",
       "1       medium   31   green  False 2021-07-25  0.007596\n",
       "2          big   25   green  False 2022-07-20  0.456653\n",
       "3          big   20     red  False 2020-03-16  0.902980\n",
       "4        small    6     red   True 2022-03-18  0.391114\n",
       "...        ...  ...     ...    ...        ...       ...\n",
       "999995     big   47   green  False 2022-07-11  0.039985\n",
       "999996   small   29  yellow   True 2022-07-13  0.404151\n",
       "999997   small   44   green  False 2021-05-15  0.001012\n",
       "999998  medium   46  yellow  False 2020-11-17  0.761888\n",
       "999999     big   17   green   True 2021-03-13  0.657446\n",
       "\n",
       "[1000000 rows x 6 columns]"
      ]
     },
     "execution_count": 73,
     "metadata": {},
     "output_type": "execute_result"
    }
   ],
   "source": [
    "## Set datatypes on the columns\n",
    "gkdf = get_gkdataset(1000000)\n",
    "set_gkdtypes(gkdf)"
   ]
  },
  {
   "cell_type": "code",
   "execution_count": 74,
   "metadata": {},
   "outputs": [
    {
     "name": "stdout",
     "output_type": "stream",
     "text": [
      "<class 'pandas.core.frame.DataFrame'>\n",
      "RangeIndex: 1000000 entries, 0 to 999999\n",
      "Data columns (total 6 columns):\n",
      " #   Column  Non-Null Count    Dtype         \n",
      "---  ------  --------------    -----         \n",
      " 0   size    1000000 non-null  category      \n",
      " 1   age     1000000 non-null  int16         \n",
      " 2   team    1000000 non-null  category      \n",
      " 3   win     1000000 non-null  bool          \n",
      " 4   date    1000000 non-null  datetime64[ns]\n",
      " 5   prob    1000000 non-null  float32       \n",
      "dtypes: bool(1), category(2), datetime64[ns](1), float32(1), int16(1)\n",
      "memory usage: 16.2 MB\n"
     ]
    }
   ],
   "source": [
    "gkdf.info()"
   ]
  },
  {
   "cell_type": "code",
   "execution_count": 75,
   "metadata": {},
   "outputs": [],
   "source": [
    "gkdf.to_csv(\"gktest_csv.csv\",index = False)\n"
   ]
  },
  {
   "cell_type": "code",
   "execution_count": 78,
   "metadata": {},
   "outputs": [
    {
     "name": "stdout",
     "output_type": "stream",
     "text": [
      "<class 'pandas.core.frame.DataFrame'>\n",
      "RangeIndex: 1000000 entries, 0 to 999999\n",
      "Data columns (total 6 columns):\n",
      " #   Column  Non-Null Count    Dtype  \n",
      "---  ------  --------------    -----  \n",
      " 0   size    1000000 non-null  object \n",
      " 1   age     1000000 non-null  int64  \n",
      " 2   team    1000000 non-null  object \n",
      " 3   win     1000000 non-null  bool   \n",
      " 4   date    1000000 non-null  object \n",
      " 5   prob    1000000 non-null  float64\n",
      "dtypes: bool(1), float64(1), int64(1), object(3)\n",
      "memory usage: 39.1+ MB\n"
     ]
    }
   ],
   "source": [
    "gkdf = pd.read_csv(\"gktest_csv.csv\")\n",
    "gkdf.info()\n"
   ]
  },
  {
   "cell_type": "code",
   "execution_count": 90,
   "metadata": {},
   "outputs": [
    {
     "data": {
      "text/html": [
       "<div>\n",
       "<style scoped>\n",
       "    .dataframe tbody tr th:only-of-type {\n",
       "        vertical-align: middle;\n",
       "    }\n",
       "\n",
       "    .dataframe tbody tr th {\n",
       "        vertical-align: top;\n",
       "    }\n",
       "\n",
       "    .dataframe thead th {\n",
       "        text-align: right;\n",
       "    }\n",
       "</style>\n",
       "<table border=\"1\" class=\"dataframe\">\n",
       "  <thead>\n",
       "    <tr style=\"text-align: right;\">\n",
       "      <th></th>\n",
       "      <th>size</th>\n",
       "      <th>age</th>\n",
       "      <th>team</th>\n",
       "      <th>win</th>\n",
       "      <th>date</th>\n",
       "      <th>prob</th>\n",
       "    </tr>\n",
       "  </thead>\n",
       "  <tbody>\n",
       "    <tr>\n",
       "      <th>0</th>\n",
       "      <td>big</td>\n",
       "      <td>39</td>\n",
       "      <td>red</td>\n",
       "      <td>False</td>\n",
       "      <td>2022-09-19</td>\n",
       "      <td>0.773951</td>\n",
       "    </tr>\n",
       "    <tr>\n",
       "      <th>1</th>\n",
       "      <td>big</td>\n",
       "      <td>23</td>\n",
       "      <td>yellow</td>\n",
       "      <td>False</td>\n",
       "      <td>2020-03-09</td>\n",
       "      <td>0.733663</td>\n",
       "    </tr>\n",
       "    <tr>\n",
       "      <th>2</th>\n",
       "      <td>small</td>\n",
       "      <td>24</td>\n",
       "      <td>red</td>\n",
       "      <td>True</td>\n",
       "      <td>2022-01-13</td>\n",
       "      <td>0.346818</td>\n",
       "    </tr>\n",
       "    <tr>\n",
       "      <th>3</th>\n",
       "      <td>big</td>\n",
       "      <td>47</td>\n",
       "      <td>red</td>\n",
       "      <td>False</td>\n",
       "      <td>2020-05-23</td>\n",
       "      <td>0.270247</td>\n",
       "    </tr>\n",
       "    <tr>\n",
       "      <th>4</th>\n",
       "      <td>big</td>\n",
       "      <td>22</td>\n",
       "      <td>yellow</td>\n",
       "      <td>True</td>\n",
       "      <td>2020-07-17</td>\n",
       "      <td>0.382008</td>\n",
       "    </tr>\n",
       "    <tr>\n",
       "      <th>...</th>\n",
       "      <td>...</td>\n",
       "      <td>...</td>\n",
       "      <td>...</td>\n",
       "      <td>...</td>\n",
       "      <td>...</td>\n",
       "      <td>...</td>\n",
       "    </tr>\n",
       "    <tr>\n",
       "      <th>999995</th>\n",
       "      <td>big</td>\n",
       "      <td>28</td>\n",
       "      <td>green</td>\n",
       "      <td>True</td>\n",
       "      <td>2020-04-19</td>\n",
       "      <td>0.547172</td>\n",
       "    </tr>\n",
       "    <tr>\n",
       "      <th>999996</th>\n",
       "      <td>big</td>\n",
       "      <td>33</td>\n",
       "      <td>red</td>\n",
       "      <td>False</td>\n",
       "      <td>2020-03-12</td>\n",
       "      <td>0.926601</td>\n",
       "    </tr>\n",
       "    <tr>\n",
       "      <th>999997</th>\n",
       "      <td>small</td>\n",
       "      <td>13</td>\n",
       "      <td>yellow</td>\n",
       "      <td>True</td>\n",
       "      <td>2021-04-15</td>\n",
       "      <td>0.747553</td>\n",
       "    </tr>\n",
       "    <tr>\n",
       "      <th>999998</th>\n",
       "      <td>small</td>\n",
       "      <td>20</td>\n",
       "      <td>blue</td>\n",
       "      <td>True</td>\n",
       "      <td>2020-12-02</td>\n",
       "      <td>0.847842</td>\n",
       "    </tr>\n",
       "    <tr>\n",
       "      <th>999999</th>\n",
       "      <td>small</td>\n",
       "      <td>24</td>\n",
       "      <td>red</td>\n",
       "      <td>False</td>\n",
       "      <td>2021-03-08</td>\n",
       "      <td>0.133789</td>\n",
       "    </tr>\n",
       "  </tbody>\n",
       "</table>\n",
       "<p>1000000 rows × 6 columns</p>\n",
       "</div>"
      ],
      "text/plain": [
       "         size  age    team    win       date      prob\n",
       "0         big   39     red  False 2022-09-19  0.773951\n",
       "1         big   23  yellow  False 2020-03-09  0.733663\n",
       "2       small   24     red   True 2022-01-13  0.346818\n",
       "3         big   47     red  False 2020-05-23  0.270247\n",
       "4         big   22  yellow   True 2020-07-17  0.382008\n",
       "...       ...  ...     ...    ...        ...       ...\n",
       "999995    big   28   green   True 2020-04-19  0.547172\n",
       "999996    big   33     red  False 2020-03-12  0.926601\n",
       "999997  small   13  yellow   True 2021-04-15  0.747553\n",
       "999998  small   20    blue   True 2020-12-02  0.847842\n",
       "999999  small   24     red  False 2021-03-08  0.133789\n",
       "\n",
       "[1000000 rows x 6 columns]"
      ]
     },
     "execution_count": 90,
     "metadata": {},
     "output_type": "execute_result"
    }
   ],
   "source": [
    "gkdf = get_gkdataset(1000000)\n",
    "set_gkdtypes(df)"
   ]
  },
  {
   "cell_type": "code",
   "execution_count": 104,
   "metadata": {},
   "outputs": [],
   "source": [
    "\n",
    "%timeit df.to_pickle(\"test.pickle\")\n",
    "\n"
   ]
  },
  {
   "cell_type": "code",
   "execution_count": 105,
   "metadata": {},
   "outputs": [
    {
     "name": "stdout",
     "output_type": "stream",
     "text": [
      "<class 'pandas.core.frame.DataFrame'>\n",
      "RangeIndex: 1000000 entries, 0 to 999999\n",
      "Data columns (total 6 columns):\n",
      " #   Column  Non-Null Count    Dtype         \n",
      "---  ------  --------------    -----         \n",
      " 0   size    1000000 non-null  category      \n",
      " 1   age     1000000 non-null  int16         \n",
      " 2   team    1000000 non-null  category      \n",
      " 3   win     1000000 non-null  bool          \n",
      " 4   date    1000000 non-null  datetime64[ns]\n",
      " 5   prob    1000000 non-null  float32       \n",
      "dtypes: bool(1), category(2), datetime64[ns](1), float32(1), int16(1)\n",
      "memory usage: 16.2 MB\n"
     ]
    }
   ],
   "source": [
    "df.info()"
   ]
  },
  {
   "cell_type": "code",
   "execution_count": 109,
   "metadata": {},
   "outputs": [
    {
     "data": {
      "text/html": [
       "<div>\n",
       "<style scoped>\n",
       "    .dataframe tbody tr th:only-of-type {\n",
       "        vertical-align: middle;\n",
       "    }\n",
       "\n",
       "    .dataframe tbody tr th {\n",
       "        vertical-align: top;\n",
       "    }\n",
       "\n",
       "    .dataframe thead th {\n",
       "        text-align: right;\n",
       "    }\n",
       "</style>\n",
       "<table border=\"1\" class=\"dataframe\">\n",
       "  <thead>\n",
       "    <tr style=\"text-align: right;\">\n",
       "      <th></th>\n",
       "      <th>size</th>\n",
       "      <th>age</th>\n",
       "      <th>team</th>\n",
       "      <th>win</th>\n",
       "      <th>date</th>\n",
       "      <th>prob</th>\n",
       "    </tr>\n",
       "  </thead>\n",
       "  <tbody>\n",
       "    <tr>\n",
       "      <th>0</th>\n",
       "      <td>big</td>\n",
       "      <td>39</td>\n",
       "      <td>red</td>\n",
       "      <td>False</td>\n",
       "      <td>2022-09-19</td>\n",
       "      <td>0.773951</td>\n",
       "    </tr>\n",
       "    <tr>\n",
       "      <th>1</th>\n",
       "      <td>big</td>\n",
       "      <td>23</td>\n",
       "      <td>yellow</td>\n",
       "      <td>False</td>\n",
       "      <td>2020-03-09</td>\n",
       "      <td>0.733663</td>\n",
       "    </tr>\n",
       "    <tr>\n",
       "      <th>2</th>\n",
       "      <td>small</td>\n",
       "      <td>24</td>\n",
       "      <td>red</td>\n",
       "      <td>True</td>\n",
       "      <td>2022-01-13</td>\n",
       "      <td>0.346818</td>\n",
       "    </tr>\n",
       "    <tr>\n",
       "      <th>3</th>\n",
       "      <td>big</td>\n",
       "      <td>47</td>\n",
       "      <td>red</td>\n",
       "      <td>False</td>\n",
       "      <td>2020-05-23</td>\n",
       "      <td>0.270247</td>\n",
       "    </tr>\n",
       "    <tr>\n",
       "      <th>4</th>\n",
       "      <td>big</td>\n",
       "      <td>22</td>\n",
       "      <td>yellow</td>\n",
       "      <td>True</td>\n",
       "      <td>2020-07-17</td>\n",
       "      <td>0.382008</td>\n",
       "    </tr>\n",
       "  </tbody>\n",
       "</table>\n",
       "</div>"
      ],
      "text/plain": [
       "    size  age    team    win       date      prob\n",
       "0    big   39     red  False 2022-09-19  0.773951\n",
       "1    big   23  yellow  False 2020-03-09  0.733663\n",
       "2  small   24     red   True 2022-01-13  0.346818\n",
       "3    big   47     red  False 2020-05-23  0.270247\n",
       "4    big   22  yellow   True 2020-07-17  0.382008"
      ]
     },
     "execution_count": 109,
     "metadata": {},
     "output_type": "execute_result"
    }
   ],
   "source": [
    "df_pickle = pd.read_pickle(\"test.pickle\")\n",
    "df_pickle.head()"
   ]
  },
  {
   "cell_type": "code",
   "execution_count": 111,
   "metadata": {},
   "outputs": [
    {
     "name": "stdout",
     "output_type": "stream",
     "text": [
      "<class 'pandas.core.frame.DataFrame'>\n",
      "RangeIndex: 1000000 entries, 0 to 999999\n",
      "Data columns (total 6 columns):\n",
      " #   Column  Non-Null Count    Dtype         \n",
      "---  ------  --------------    -----         \n",
      " 0   size    1000000 non-null  category      \n",
      " 1   age     1000000 non-null  int16         \n",
      " 2   team    1000000 non-null  category      \n",
      " 3   win     1000000 non-null  bool          \n",
      " 4   date    1000000 non-null  datetime64[ns]\n",
      " 5   prob    1000000 non-null  float32       \n",
      "dtypes: bool(1), category(2), datetime64[ns](1), float32(1), int16(1)\n",
      "memory usage: 16.2 MB\n"
     ]
    }
   ],
   "source": [
    "df_pickle.info()"
   ]
  },
  {
   "cell_type": "markdown",
   "metadata": {},
   "source": [
    "Parquet"
   ]
  },
  {
   "cell_type": "code",
   "execution_count": 113,
   "metadata": {},
   "outputs": [
    {
     "name": "stdout",
     "output_type": "stream",
     "text": [
      "338 ms ± 18.6 ms per loop (mean ± std. dev. of 7 runs, 1 loop each)\n",
      "115 ms ± 6.94 ms per loop (mean ± std. dev. of 7 runs, 1 loop each)\n"
     ]
    }
   ],
   "source": [
    "df = get_gkdataset(1000000)\n",
    "%timeit df.to_parquet(\"test.parquet\")\n",
    "%timeit df_parquet = pd.read_parquet(\"test.parquet\")"
   ]
  },
  {
   "cell_type": "code",
   "execution_count": 114,
   "metadata": {},
   "outputs": [
    {
     "name": "stdout",
     "output_type": "stream",
     "text": [
      "22936 -rw-r--r--  1 user  staff    11M Oct 15 15:05 test.parquet\r\n"
     ]
    }
   ],
   "source": [
    "!ls -GFlash test.parquet"
   ]
  },
  {
   "cell_type": "code",
   "execution_count": 115,
   "metadata": {},
   "outputs": [],
   "source": [
    "df_parquet_columns = pd.read_parquet(\"test.parquet\",columns = ['size','age'])"
   ]
  },
  {
   "cell_type": "code",
   "execution_count": 116,
   "metadata": {},
   "outputs": [
    {
     "data": {
      "text/html": [
       "<div>\n",
       "<style scoped>\n",
       "    .dataframe tbody tr th:only-of-type {\n",
       "        vertical-align: middle;\n",
       "    }\n",
       "\n",
       "    .dataframe tbody tr th {\n",
       "        vertical-align: top;\n",
       "    }\n",
       "\n",
       "    .dataframe thead th {\n",
       "        text-align: right;\n",
       "    }\n",
       "</style>\n",
       "<table border=\"1\" class=\"dataframe\">\n",
       "  <thead>\n",
       "    <tr style=\"text-align: right;\">\n",
       "      <th></th>\n",
       "      <th>size</th>\n",
       "      <th>age</th>\n",
       "    </tr>\n",
       "  </thead>\n",
       "  <tbody>\n",
       "    <tr>\n",
       "      <th>0</th>\n",
       "      <td>small</td>\n",
       "      <td>10</td>\n",
       "    </tr>\n",
       "    <tr>\n",
       "      <th>1</th>\n",
       "      <td>big</td>\n",
       "      <td>26</td>\n",
       "    </tr>\n",
       "    <tr>\n",
       "      <th>2</th>\n",
       "      <td>medium</td>\n",
       "      <td>12</td>\n",
       "    </tr>\n",
       "    <tr>\n",
       "      <th>3</th>\n",
       "      <td>medium</td>\n",
       "      <td>29</td>\n",
       "    </tr>\n",
       "    <tr>\n",
       "      <th>4</th>\n",
       "      <td>small</td>\n",
       "      <td>13</td>\n",
       "    </tr>\n",
       "  </tbody>\n",
       "</table>\n",
       "</div>"
      ],
      "text/plain": [
       "     size  age\n",
       "0   small   10\n",
       "1     big   26\n",
       "2  medium   12\n",
       "3  medium   29\n",
       "4   small   13"
      ]
     },
     "execution_count": 116,
     "metadata": {},
     "output_type": "execute_result"
    }
   ],
   "source": [
    "df_parquet_columns.head()"
   ]
  },
  {
   "cell_type": "markdown",
   "metadata": {},
   "source": [
    "#Feather"
   ]
  },
  {
   "cell_type": "code",
   "execution_count": 118,
   "metadata": {},
   "outputs": [
    {
     "name": "stdout",
     "output_type": "stream",
     "text": [
      "187 ms ± 3.92 ms per loop (mean ± std. dev. of 7 runs, 1 loop each)\n",
      "107 ms ± 16.8 ms per loop (mean ± std. dev. of 7 runs, 10 loops each)\n"
     ]
    }
   ],
   "source": [
    "gkdf = get_gkdataset(1000000)\n",
    "%timeit gkdf.to_feather(\"test.feather\")\n",
    "%timeit gkdf_feather = pd.read_feather(\"test.feather\")"
   ]
  },
  {
   "cell_type": "code",
   "execution_count": 119,
   "metadata": {},
   "outputs": [
    {
     "name": "stdout",
     "output_type": "stream",
     "text": [
      "59688 -rw-r--r--  1 user  staff    29M Oct 15 15:10 test.feather\r\n"
     ]
    }
   ],
   "source": [
    "!ls -GFlash test.feather"
   ]
  },
  {
   "cell_type": "markdown",
   "metadata": {},
   "source": [
    "# Compare All the formats"
   ]
  },
  {
   "cell_type": "code",
   "execution_count": 121,
   "metadata": {},
   "outputs": [
    {
     "name": "stdout",
     "output_type": "stream",
     "text": [
      "21.7 s ± 533 ms per loop (mean ± std. dev. of 7 runs, 1 loop each)\n",
      "3.27 s ± 19.3 ms per loop (mean ± std. dev. of 7 runs, 1 loop each)\n"
     ]
    }
   ],
   "source": [
    "# CCSV File.\n",
    "gk_df = get_gkdataset(4500000)\n",
    "%timeit gk_df.to_csv(\"gktest.csv\")\n",
    "%timeit gk_df_csv = pd.read_csv(\"gktest.csv\")"
   ]
  },
  {
   "cell_type": "code",
   "execution_count": 122,
   "metadata": {},
   "outputs": [
    {
     "name": "stdout",
     "output_type": "stream",
     "text": [
      "6.9 s ± 1.31 s per loop (mean ± std. dev. of 7 runs, 1 loop each)\n",
      "3.33 s ± 464 ms per loop (mean ± std. dev. of 7 runs, 1 loop each)\n"
     ]
    }
   ],
   "source": [
    "\n",
    "# Pickle File\n",
    "gk_df = get_gkdataset(4500000)\n",
    "%timeit gk_df.to_pickle(\"gktest.pickle\")\n",
    "%timeit gk_df_pickle = pd.read_pickle(\"gktest.pickle\")"
   ]
  },
  {
   "cell_type": "code",
   "execution_count": 125,
   "metadata": {},
   "outputs": [
    {
     "name": "stdout",
     "output_type": "stream",
     "text": [
      "1.85 s ± 123 ms per loop (mean ± std. dev. of 7 runs, 1 loop each)\n",
      "591 ms ± 119 ms per loop (mean ± std. dev. of 7 runs, 1 loop each)\n"
     ]
    }
   ],
   "source": [
    "# Parquet File\n",
    "gk_df = get_gkdataset(4500000)\n",
    "%timeit gk_df.to_parquet(\"gktest.parquet\")\n",
    "%timeit gk_df_parquet = pd.read_parquet(\"gktest.parquet\")"
   ]
  },
  {
   "cell_type": "code",
   "execution_count": 128,
   "metadata": {},
   "outputs": [
    {
     "name": "stdout",
     "output_type": "stream",
     "text": [
      "864 ms ± 24.5 ms per loop (mean ± std. dev. of 7 runs, 1 loop each)\n",
      "454 ms ± 13.2 ms per loop (mean ± std. dev. of 7 runs, 1 loop each)\n"
     ]
    }
   ],
   "source": [
    "# Feather File\n",
    "\n",
    "gk_df = get_gkdataset(4500000)\n",
    "%timeit gk_df.to_feather(\"gktest.feather\")\n",
    "%timeit gk_df_feather = pd.read_feather(\"gktest.feather\")"
   ]
  },
  {
   "cell_type": "code",
   "execution_count": 129,
   "metadata": {},
   "outputs": [
    {
     "name": "stdout",
     "output_type": "stream",
     "text": [
      "491528 -rw-r--r--  1 user  staff   238M Oct 15 15:25 gktest.csv\r\n",
      "295208 -rw-r--r--  1 user  staff   130M Oct 15 15:40 gktest.feather\r\n",
      " 98320 -rw-r--r--  1 user  staff    48M Oct 15 15:33 gktest.parquet\r\n",
      "392664 -rw-r--r--  1 user  staff   192M Oct 15 15:30 gktest.pickle\r\n"
     ]
    }
   ],
   "source": [
    "!ls -GFlash gktest.csv gktest.pickle gktest.parquet gktest.feather"
   ]
  },
  {
   "cell_type": "code",
   "execution_count": null,
   "metadata": {},
   "outputs": [],
   "source": []
  }
 ],
 "metadata": {
  "kernelspec": {
   "display_name": "Python 3",
   "language": "python",
   "name": "python3"
  },
  "language_info": {
   "codemirror_mode": {
    "name": "ipython",
    "version": 3
   },
   "file_extension": ".py",
   "mimetype": "text/x-python",
   "name": "python",
   "nbconvert_exporter": "python",
   "pygments_lexer": "ipython3",
   "version": "3.8.5"
  }
 },
 "nbformat": 4,
 "nbformat_minor": 4
}
